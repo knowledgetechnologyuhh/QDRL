{
 "cells": [
  {
   "cell_type": "code",
   "execution_count": null,
   "id": "center-karma",
   "metadata": {},
   "outputs": [],
   "source": [
    "import os\n",
    "\n",
    "import torch\n",
    "from ipywidgets import interact\n",
    "from qsr_learning.data.data import draw, generate_objects\n",
    "\n",
    "os.environ[\"CUDA_VISIBLE_DEVICES\"] = \"0\"\n",
    "device = torch.device(\"cuda\" if torch.cuda.is_available() else \"cpu\")"
   ]
  },
  {
   "cell_type": "markdown",
   "id": "joined-walnut",
   "metadata": {},
   "source": [
    "# Test Relations"
   ]
  },
  {
   "cell_type": "code",
   "execution_count": null,
   "id": "absolute-revolution",
   "metadata": {},
   "outputs": [],
   "source": [
    "from qsr_learning.relations.absolute.half_planes import above, below, left_of, right_of\n",
    "\n",
    "\n",
    "@interact(x1=(0, 150), y1=(0, 150), x2=(0, 150), y2=(0, 150))\n",
    "def test_spatial_relations(x1, y1, x2, y2):\n",
    "    object1, object2 = generate_objects(\n",
    "        positions=[(y1, x1), (y2, x2)], image_size=(32, 32), crop=True, bbox=True\n",
    "    )\n",
    "    display(draw([object1, object2]))\n",
    "    print(object1.bbox.top, object1.bbox.bottom, object1.bbox.left, object1.bbox.right)\n",
    "    print(object2.bbox.top, object2.bbox.bottom, object2.bbox.left, object2.bbox.right)\n",
    "    print(\n",
    "        \"left_of({}, {}): {}\".format(\n",
    "            object1.name, object2.name, left_of(object1, object2)\n",
    "        )\n",
    "    )\n",
    "    print(\n",
    "        \"right_of({}, {}): {}\".format(\n",
    "            object1.name, object2.name, right_of(object1, object2)\n",
    "        )\n",
    "    )\n",
    "    print(\n",
    "        \"above({}, {}): {}\".format(object1.name, object2.name, above(object1, object2))\n",
    "    )\n",
    "    print(\n",
    "        \"below({}, {}): {}\".format(object1.name, object2.name, below(object1, object2))\n",
    "    )"
   ]
  },
  {
   "cell_type": "markdown",
   "id": "editorial-testing",
   "metadata": {},
   "source": [
    "# Test Negative Sample Generation"
   ]
  },
  {
   "cell_type": "code",
   "execution_count": null,
   "id": "extreme-presence",
   "metadata": {},
   "outputs": [],
   "source": [
    "import numpy as np\n",
    "from munch import Munch\n",
    "import random\n",
    "\n",
    "from qsr_learning.data.data import generate_one_negative_example"
   ]
  },
  {
   "cell_type": "code",
   "execution_count": null,
   "id": "twenty-boating",
   "metadata": {},
   "outputs": [],
   "source": [
    "def test_negative_sample_generation():\n",
    "    object_names = {\"A\", \"B\", \"C\"}\n",
    "    relation_names = {\"0\", \"1\"}\n",
    "    positive_examples = {(\"A\", \"0\", \"B\")}\n",
    "\n",
    "    mixture = Munch(head=1, relation=1, tail=1)\n",
    "    negative_sample_types = list(mixture.keys())\n",
    "    p = np.array(list(mixture.values()))\n",
    "    p = p / p.sum()\n",
    "\n",
    "    negative_examples = []\n",
    "\n",
    "    for _ in range(10):\n",
    "        negative_sample_type = np.random.choice(negative_sample_types, p=p)\n",
    "        negative_example = generate_one_negative_example(\n",
    "            object_names, relation_names, positive_examples, negative_sample_type\n",
    "        )\n",
    "        negative_examples.append(negative_example)\n",
    "\n",
    "    return negative_examples\n",
    "\n",
    "test_negative_sample_generation()"
   ]
  },
  {
   "cell_type": "markdown",
   "id": "injured-agreement",
   "metadata": {},
   "source": [
    "# Test a Trained Model"
   ]
  },
  {
   "cell_type": "code",
   "execution_count": null,
   "id": "living-metropolitan",
   "metadata": {},
   "outputs": [],
   "source": [
    "def test_trained_model(model):\n",
    "    def tensor2image(x):\n",
    "        return Image.fromarray(\n",
    "            (255 * ((0.5 * x) + 0.5)).numpy().astype(\"uint8\").transpose(1, 2, 0)\n",
    "        )\n",
    "\n",
    "    def tensor2question(x):\n",
    "        return [loader.train.dataset.idx2word[idx] for idx in x.numpy()]\n",
    "\n",
    "    def tensor2answer(x):\n",
    "        return x.item()\n",
    "\n",
    "    for batch in loader.test:\n",
    "        break\n",
    "\n",
    "    images, questions, answers = (item.to(device) for item in batch)\n",
    "    with torch.no_grad():\n",
    "        model.eval()\n",
    "        print(model(images[:1], questions[:1]) > 0.5)\n",
    "        print(answers[:1])\n",
    "\n",
    "    for i in range(batch[0].shape[0]):\n",
    "        display(tensor2image(images[i].cpu()))\n",
    "        display(tensor2question(questions[i].cpu()))\n",
    "        display(tensor2answer(answers[i].cpu()))"
   ]
  },
  {
   "cell_type": "code",
   "execution_count": null,
   "id": "physical-minimum",
   "metadata": {},
   "outputs": [],
   "source": []
  }
 ],
 "metadata": {
  "language_info": {
   "name": "python",
   "pygments_lexer": "ipython3"
  }
 },
 "nbformat": 4,
 "nbformat_minor": 5
}

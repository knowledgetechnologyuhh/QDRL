{
 "cells": [
  {
   "cell_type": "code",
   "execution_count": null,
   "id": "expected-collector",
   "metadata": {},
   "outputs": [],
   "source": [
    "import os\n",
    "\n",
    "import torch\n",
    "from ipywidgets import interact\n",
    "# from qsr_learning.data.data import draw, generate_objects\n",
    "\n",
    "os.environ[\"CUDA_VISIBLE_DEVICES\"] = \"0\"\n",
    "device = torch.device(\"cuda\" if torch.cuda.is_available() else \"cpu\")"
   ]
  },
  {
   "cell_type": "markdown",
   "id": "affiliated-columbus",
   "metadata": {},
   "source": [
    "# Test `Entity` Class"
   ]
  },
  {
   "cell_type": "code",
   "execution_count": null,
   "id": "described-going",
   "metadata": {},
   "outputs": [],
   "source": [
    "import math\n",
    "\n",
    "from PIL import Image\n",
    "from qsr_learning.entity import Entity"
   ]
  },
  {
   "cell_type": "code",
   "execution_count": null,
   "id": "crazy-edmonton",
   "metadata": {},
   "outputs": [],
   "source": [
    "canvas = Image.new(\"RGBA\", (224, 224), (127, 127, 127, 127))\n",
    "entity1 = Entity(\n",
    "    name=\"octopus\",\n",
    "    absolute_direction=False,\n",
    "    p=(30, 30),\n",
    "    theta=0 / 360 * 2 * math.pi,\n",
    "    size=(32, 32),\n",
    ")\n",
    "entity1.draw(canvas, show_bbox=True, orientation_marker=True)\n",
    "entity2 = Entity(\n",
    "    name=\"trophy\",\n",
    "    absolute_direction=False,\n",
    "    p=(60, 60),\n",
    "    theta=90 / 360 * 2 * math.pi,\n",
    "    size=(32, 32),\n",
    ")\n",
    "entity2.draw(canvas, show_bbox=True, orientation_marker=True)"
   ]
  },
  {
   "cell_type": "code",
   "execution_count": null,
   "id": "legislative-district",
   "metadata": {},
   "outputs": [],
   "source": [
    "entity1.image_array[:, :, 0].mean()"
   ]
  },
  {
   "cell_type": "markdown",
   "id": "elegant-influence",
   "metadata": {},
   "source": [
    "# Test Relations"
   ]
  },
  {
   "cell_type": "code",
   "execution_count": null,
   "id": "recovered-compilation",
   "metadata": {},
   "outputs": [],
   "source": [
    "from ipywidgets import interact\n",
    "from qsr_learning.relation import above, below, left_of, right_of\n",
    "\n",
    "\n",
    "@interact(\n",
    "    absolute_direction=(0, 1),\n",
    "    x1=(0, 150),\n",
    "    y1=(0, 150),\n",
    "    theta1=(0, 360),\n",
    "    x2=(0, 150),\n",
    "    y2=(0, 150),\n",
    "    theta2=(0, 360),\n",
    ")\n",
    "def test_spatial_relations(\n",
    "    absolute_direction=1, x1=64, y1=64, theta1=0, x2=128, y2=128, theta2=150\n",
    "):\n",
    "    canvas = Image.new(\"RGBA\", (224, 224), (127, 127, 127, 127))\n",
    "    entity1 = Entity(\n",
    "        name=\"octopus\",\n",
    "        absolute_direction=absolute_direction,\n",
    "        p=(x1, y1),\n",
    "        theta=theta1 / 360 * 2 * math.pi,\n",
    "        size=(32, 32),\n",
    "    )\n",
    "    entity1.draw(canvas, show_bbox=True, orientation_marker=True)\n",
    "    entity2 = Entity(\n",
    "        name=\"trophy\",\n",
    "        absolute_direction=absolute_direction,\n",
    "        p=(x2, y2),\n",
    "        theta=theta2 / 360 * 2 * math.pi,\n",
    "        size=(32, 32),\n",
    "    )\n",
    "    entity2.draw(canvas, show_bbox=True, orientation_marker=True)\n",
    "    display(canvas)\n",
    "\n",
    "    for relation in [left_of, right_of, above, below]:\n",
    "        if relation(entity1, entity2):\n",
    "            print(entity1.name, relation.__name__, entity2.name)\n",
    "    for relation in [left_of, right_of, above, below]:\n",
    "        if relation(entity2, entity1):\n",
    "            print(entity2.name, relation.__name__, entity1.name)"
   ]
  },
  {
   "cell_type": "markdown",
   "id": "immediate-magazine",
   "metadata": {},
   "source": [
    "# Test Negative Sample Generation"
   ]
  },
  {
   "cell_type": "code",
   "execution_count": null,
   "id": "alert-retrieval",
   "metadata": {},
   "outputs": [],
   "source": [
    "import numpy as np\n",
    "from munch import Munch\n",
    "import random\n",
    "\n",
    "from qsr_learning.data.data import generate_one_negative_example"
   ]
  },
  {
   "cell_type": "code",
   "execution_count": null,
   "id": "virgin-pathology",
   "metadata": {},
   "outputs": [],
   "source": [
    "def test_negative_sample_generation():\n",
    "    object_names = {\"A\", \"B\", \"C\"}\n",
    "    relation_names = {\"0\", \"1\"}\n",
    "    positive_examples = {(\"A\", \"0\", \"B\")}\n",
    "\n",
    "    mixture = Munch(head=1, relation=1, tail=1)\n",
    "    negative_sample_types = list(mixture.keys())\n",
    "    p = np.array(list(mixture.values()))\n",
    "    p = p / p.sum()\n",
    "\n",
    "    negative_examples = []\n",
    "\n",
    "    for _ in range(10):\n",
    "        negative_sample_type = np.random.choice(negative_sample_types, p=p)\n",
    "        negative_example = generate_one_negative_example(\n",
    "            object_names, relation_names, positive_examples, negative_sample_type\n",
    "        )\n",
    "        negative_examples.append(negative_example)\n",
    "\n",
    "    return negative_examples\n",
    "\n",
    "test_negative_sample_generation()"
   ]
  },
  {
   "cell_type": "markdown",
   "id": "expressed-graphics",
   "metadata": {},
   "source": [
    "# Test a Trained Model"
   ]
  },
  {
   "cell_type": "code",
   "execution_count": null,
   "id": "liquid-claim",
   "metadata": {},
   "outputs": [],
   "source": [
    "def test_trained_model(model):\n",
    "    def tensor2image(x):\n",
    "        return Image.fromarray(\n",
    "            (255 * ((0.5 * x) + 0.5)).numpy().astype(\"uint8\").transpose(1, 2, 0)\n",
    "        )\n",
    "\n",
    "    def tensor2question(x):\n",
    "        return [loader.train.dataset.idx2word[idx] for idx in x.numpy()]\n",
    "\n",
    "    def tensor2answer(x):\n",
    "        return x.item()\n",
    "\n",
    "    for batch in loader.test:\n",
    "        break\n",
    "\n",
    "    images, questions, answers = (item.to(device) for item in batch)\n",
    "    with torch.no_grad():\n",
    "        model.eval()\n",
    "        print(model(images[:1], questions[:1]) > 0.5)\n",
    "        print(answers[:1])\n",
    "\n",
    "    for i in range(batch[0].shape[0]):\n",
    "        display(tensor2image(images[i].cpu()))\n",
    "        display(tensor2question(questions[i].cpu()))\n",
    "        display(tensor2answer(answers[i].cpu()))"
   ]
  }
 ],
 "metadata": {
  "language_info": {
   "name": "python",
   "pygments_lexer": "ipython3"
  }
 },
 "nbformat": 4,
 "nbformat_minor": 5
}

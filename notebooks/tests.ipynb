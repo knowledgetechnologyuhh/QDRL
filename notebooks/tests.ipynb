{
 "cells": [
  {
   "cell_type": "code",
   "execution_count": null,
   "id": "advised-november",
   "metadata": {},
   "outputs": [],
   "source": [
    "import os\n",
    "\n",
    "import torch\n",
    "from ipywidgets import interact\n",
    "# from qsr_learning.data.data import draw, generate_objects\n",
    "\n",
    "os.environ[\"CUDA_VISIBLE_DEVICES\"] = \"0\"\n",
    "device = torch.device(\"cuda\" if torch.cuda.is_available() else \"cpu\")"
   ]
  },
  {
   "cell_type": "markdown",
   "id": "earlier-trance",
   "metadata": {},
   "source": [
    "# Test the `Entity` Class"
   ]
  },
  {
   "cell_type": "code",
   "execution_count": null,
   "id": "nutritional-inventory",
   "metadata": {},
   "outputs": [],
   "source": [
    "import math\n",
    "\n",
    "from PIL import Image\n",
    "from qsr_learning.entity import Entity"
   ]
  },
  {
   "cell_type": "code",
   "execution_count": null,
   "id": "incident-arnold",
   "metadata": {},
   "outputs": [],
   "source": [
    "canvas = Image.new(\"RGBA\", (224, 224), (127, 127, 127, 127))\n",
    "entity1 = Entity(\n",
    "    name=\"octopus\",\n",
    "    frame_of_reference=\"absolute\",\n",
    "    p=(30, 30),\n",
    "    theta=0 / 360 * 2 * math.pi,\n",
    "    size=(32, 32),\n",
    ")\n",
    "entity1.draw(canvas, show_bbox=True, orientation_marker=True)\n",
    "entity2 = Entity(\n",
    "    name=\"trophy\",\n",
    "    frame_of_reference=\"absolute\",\n",
    "    p=(60, 60),\n",
    "    theta=90 / 360 * 2 * math.pi,\n",
    "    size=(32, 32),\n",
    ")\n",
    "entity2.draw(canvas, show_bbox=True, orientation_marker=True)"
   ]
  },
  {
   "cell_type": "markdown",
   "id": "adapted-tracker",
   "metadata": {},
   "source": [
    "# Test the Relations"
   ]
  },
  {
   "cell_type": "code",
   "execution_count": null,
   "id": "identified-adventure",
   "metadata": {},
   "outputs": [],
   "source": [
    "from ipywidgets import interact\n",
    "from qsr_learning.relation import above, below, left_of, right_of\n",
    "\n",
    "\n",
    "@interact(\n",
    "    frame_of_reference=(0, 1),\n",
    "    x1=(0, 150),\n",
    "    y1=(0, 150),\n",
    "    theta1=(0, 360),\n",
    "    x2=(0, 150),\n",
    "    y2=(0, 150),\n",
    "    theta2=(0, 360),\n",
    ")\n",
    "def test_spatial_relations(\n",
    "    frame_of_reference=0, x1=64, y1=64, theta1=0, x2=128, y2=128, theta2=150\n",
    "):\n",
    "    canvas = Image.new(\"RGBA\", (224, 224), (127, 127, 127, 127))\n",
    "    entity1 = Entity(\n",
    "        name=\"octopus\",\n",
    "        frame_of_reference={0: \"absolute\", 1: \"intrinsic\"}[frame_of_reference],\n",
    "        p=(x1, y1),\n",
    "        theta=theta1 / 360 * 2 * math.pi,\n",
    "        size=(32, 32),\n",
    "    )\n",
    "    entity1.draw(canvas, show_bbox=True, orientation_marker=True)\n",
    "    entity2 = Entity(\n",
    "        name=\"trophy\",\n",
    "        frame_of_reference={0: \"absolute\", 1: \"intrinsic\"}[frame_of_reference],\n",
    "        p=(x2, y2),\n",
    "        theta=theta2 / 360 * 2 * math.pi,\n",
    "        size=(32, 32),\n",
    "    )\n",
    "    entity2.draw(canvas, show_bbox=True, orientation_marker=True)\n",
    "    display(canvas)\n",
    "\n",
    "    for relation in [left_of, right_of, above, below]:\n",
    "        if relation(entity1, entity2):\n",
    "            print(entity1.name, relation.__name__, entity2.name)\n",
    "    for relation in [left_of, right_of, above, below]:\n",
    "        if relation(entity2, entity1):\n",
    "            print(entity2.name, relation.__name__, entity1.name)"
   ]
  },
  {
   "cell_type": "markdown",
   "id": "sticky-ecuador",
   "metadata": {},
   "source": [
    "# Test the Samples"
   ]
  },
  {
   "cell_type": "code",
   "execution_count": null,
   "id": "representative-stake",
   "metadata": {},
   "outputs": [],
   "source": [
    "from qsr_learning.data import draw_entities, generate_entities, generate_questions\n",
    "from qsr_learning.entity import emoji_names\n",
    "from qsr_learning.relation import above, below, left_of, right_of\n",
    "\n",
    "entities = generate_entities(\n",
    "    entity_names=emoji_names,  # [\"octopus\", \"trophy\"],\n",
    "    num_entities=2,\n",
    "    frame_of_reference=\"absolute\",\n",
    "    w_range=(16, 64),\n",
    "    h_range=(16, 64),\n",
    ")\n",
    "relations = [left_of, right_of, above, below]\n",
    "image = draw_entities(entities, show_bbox=True, orientation_marker=False)\n",
    "display(image)\n",
    "positive_questions, negative_questions = generate_questions(entities, relations)\n",
    "display(positive_questions)\n",
    "display(negative_questions)"
   ]
  },
  {
   "cell_type": "markdown",
   "id": "yellow-horizontal",
   "metadata": {},
   "source": [
    "# Test the Dataset"
   ]
  },
  {
   "cell_type": "code",
   "execution_count": null,
   "id": "retained-listening",
   "metadata": {},
   "outputs": [],
   "source": [
    "import torch\n",
    "import torchvision\n",
    "from qsr_learning.data import DRLDataset, get_mean_and_std\n",
    "from torch.utils.data import DataLoader\n",
    "\n",
    "entity_names = [\"octopus\", \"trophy\"]\n",
    "relation_names = [\"left_of\", \"right_of\", \"above\", \"below\"]\n",
    "num_entities = 2\n",
    "frame_of_reference = \"absolute\"\n",
    "\n",
    "\n",
    "drl_dataset = DRLDataset(\n",
    "    entity_names=[\"octopus\", \"trophy\"],\n",
    "    relation_names=[\"left_of\", \"right_of\"],\n",
    "    num_entities=2,\n",
    "    frame_of_reference=\"absolute\",\n",
    "    num_examples=8,\n",
    "    transform=torchvision.transforms.Compose(\n",
    "        [\n",
    "            torchvision.transforms.ToTensor(),\n",
    "            torchvision.transforms.Normalize(\n",
    "                *get_mean_and_std(\n",
    "                    entity_names, relation_names, num_entities, frame_of_reference\n",
    "                )\n",
    "            ),\n",
    "        ]\n",
    "    ),\n",
    ")\n",
    "\n",
    "loader = DataLoader(drl_dataset, batch_size=8)\n",
    "\n",
    "image, questions, answers = drl_dataset.generate_scene()\n",
    "display(image)\n",
    "\n",
    "\n",
    "def tensor2question(question, drl_dataset):\n",
    "    e1, r, e2 = question\n",
    "    return drl_dataset.idx2ent[e1], drl_dataset.idx2rel[r], drl_dataset.idx2ent[e2]\n",
    "\n",
    "\n",
    "def tensor2answer(answer):\n",
    "    return bool(answer)\n",
    "\n",
    "\n",
    "list(\n",
    "    zip(\n",
    "        [tensor2question(question, drl_dataset) for question in questions],\n",
    "        [tensor2answer(answer) for answer in answers],\n",
    "    )\n",
    ")"
   ]
  },
  {
   "cell_type": "markdown",
   "id": "dramatic-solomon",
   "metadata": {},
   "source": [
    "# Test a Trained Model"
   ]
  },
  {
   "cell_type": "code",
   "execution_count": null,
   "id": "documentary-silver",
   "metadata": {},
   "outputs": [],
   "source": [
    "def test_trained_model(model):\n",
    "    def tensor2image(x):\n",
    "        return Image.fromarray(\n",
    "            (255 * ((0.5 * x) + 0.5)).numpy().astype(\"uint8\").transpose(1, 2, 0)\n",
    "        )\n",
    "\n",
    "    def tensor2question(x):\n",
    "        return [loader.train.dataset.idx2word[idx] for idx in x.numpy()]\n",
    "\n",
    "    def tensor2answer(x):\n",
    "        return x.item()\n",
    "\n",
    "    for batch in loader.test:\n",
    "        break\n",
    "\n",
    "    images, questions, answers = (item.to(device) for item in batch)\n",
    "    with torch.no_grad():\n",
    "        model.eval()\n",
    "        print(model(images[:1], questions[:1]) > 0.5)\n",
    "        print(answers[:1])\n",
    "\n",
    "    for i in range(batch[0].shape[0]):\n",
    "        display(tensor2image(images[i].cpu()))\n",
    "        display(tensor2question(questions[i].cpu()))\n",
    "        display(tensor2answer(answers[i].cpu()))"
   ]
  }
 ],
 "metadata": {
  "language_info": {
   "name": "python",
   "pygments_lexer": "ipython3"
  }
 },
 "nbformat": 4,
 "nbformat_minor": 5
}

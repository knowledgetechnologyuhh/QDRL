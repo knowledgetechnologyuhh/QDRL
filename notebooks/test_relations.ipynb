{
 "cells": [
  {
   "cell_type": "code",
   "execution_count": null,
   "id": "imported-brazil",
   "metadata": {},
   "outputs": [],
   "source": [
    "import os\n",
    "\n",
    "import torch\n",
    "from ipywidgets import interact\n",
    "\n",
    "from qsr_learning.main import above, below, draw, generate_objects, left_of, right_of\n",
    "\n",
    "os.environ[\"CUDA_VISIBLE_DEVICES\"] = \"0\"\n",
    "device = torch.device(\"cuda\" if torch.cuda.is_available() else \"cpu\")\n",
    "\n",
    "\n",
    "@interact(x1=(0, 150), y1=(0, 150), x2=(0, 150), y2=(0, 150))\n",
    "def test_spatial_relations(x1, y1, x2, y2):\n",
    "    object1, object2 = generate_objects(\n",
    "        positions=[(y1, x1), (y2, x2)], image_size=(32, 32), crop=False, bbox=True\n",
    "    )\n",
    "    display(draw([object1, object2]))\n",
    "    print(object1.bbox.top, object1.bbox.bottom, object1.bbox.left, object1.bbox.right)\n",
    "    print(object2.bbox.top, object2.bbox.bottom, object2.bbox.left, object2.bbox.right)\n",
    "    print(\n",
    "        \"left_of({}, {}): {}\".format(\n",
    "            object1.name, object2.name, left_of(object1, object2)\n",
    "        )\n",
    "    )\n",
    "    print(\n",
    "        \"right_of({}, {}): {}\".format(\n",
    "            object1.name, object2.name, right_of(object1, object2)\n",
    "        )\n",
    "    )\n",
    "    print(\n",
    "        \"above({}, {}): {}\".format(object1.name, object2.name, above(object1, object2))\n",
    "    )\n",
    "    print(\n",
    "        \"below({}, {}): {}\".format(object1.name, object2.name, below(object1, object2))\n",
    "    )"
   ]
  }
 ],
 "metadata": {
  "language_info": {
   "name": "python",
   "pygments_lexer": "ipython3"
  }
 },
 "nbformat": 4,
 "nbformat_minor": 5
}

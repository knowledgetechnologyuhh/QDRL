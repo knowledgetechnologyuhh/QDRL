{
 "cells": [
  {
   "cell_type": "code",
   "execution_count": null,
   "id": "amateur-kentucky",
   "metadata": {},
   "outputs": [],
   "source": [
    "import os\n",
    "\n",
    "import torch\n",
    "from ipywidgets import interact\n",
    "\n",
    "from qsr_learning.main import draw, generate_objects\n",
    "\n",
    "os.environ[\"CUDA_VISIBLE_DEVICES\"] = \"0\"\n",
    "device = torch.device(\"cuda\" if torch.cuda.is_available() else \"cpu\")"
   ]
  },
  {
   "cell_type": "markdown",
   "id": "advanced-religion",
   "metadata": {},
   "source": [
    "# Define relations"
   ]
  },
  {
   "cell_type": "code",
   "execution_count": null,
   "id": "urban-croatia",
   "metadata": {},
   "outputs": [],
   "source": [
    "# import numpy as np\n",
    "# from munch import Munch\n",
    "\n",
    "# from qsr_learning.main import (\n",
    "#     overlap,\n",
    "#     point_left_of_directed_line,\n",
    "#     point_right_of_directed_line,\n",
    "# )\n",
    "\n",
    "# def left_of(object1, object2):\n",
    "#     return object1.bbox.right < object2.bbox.left\n",
    "\n",
    "# def right_of(object1, object2):\n",
    "#     return object1.bbox.left > object2.bbox.right\n",
    "\n",
    "# def above(object1, object2):\n",
    "#     # Note: as the object moves up the y-value decreases \n",
    "#     return object1.bbox.bottom < object2.bbox.top\n",
    "\n",
    "# def below(object1, object2):\n",
    "#     # Note: as the object moves down the y-value increases \n",
    "#     return object1.bbox.top > object2.bbox.bottom"
   ]
  },
  {
   "cell_type": "code",
   "execution_count": null,
   "id": "mighty-mongolia",
   "metadata": {},
   "outputs": [],
   "source": [
    "from qsr_learning.relations.simple import left_of, right_of, above, below"
   ]
  },
  {
   "cell_type": "markdown",
   "id": "dietary-surge",
   "metadata": {},
   "source": [
    "# Test Relations"
   ]
  },
  {
   "cell_type": "code",
   "execution_count": null,
   "id": "digital-spending",
   "metadata": {},
   "outputs": [],
   "source": [
    "@interact(x1=(0, 150), y1=(0, 150), x2=(0, 150), y2=(0, 150))\n",
    "def test_spatial_relations(x1, y1, x2, y2):\n",
    "    object1, object2 = generate_objects(\n",
    "        positions=[(y1, x1), (y2, x2)], image_size=(32, 32), crop=True, bbox=True\n",
    "    )\n",
    "    display(draw([object1, object2]))\n",
    "    print(object1.bbox.top, object1.bbox.bottom, object1.bbox.left, object1.bbox.right)\n",
    "    print(object2.bbox.top, object2.bbox.bottom, object2.bbox.left, object2.bbox.right)\n",
    "    print(\n",
    "        \"left_of({}, {}): {}\".format(\n",
    "            object1.name, object2.name, left_of(object1, object2)\n",
    "        )\n",
    "    )\n",
    "    print(\n",
    "        \"right_of({}, {}): {}\".format(\n",
    "            object1.name, object2.name, right_of(object1, object2)\n",
    "        )\n",
    "    )\n",
    "    print(\n",
    "        \"above({}, {}): {}\".format(object1.name, object2.name, above(object1, object2))\n",
    "    )\n",
    "    print(\n",
    "        \"below({}, {}): {}\".format(object1.name, object2.name, below(object1, object2))\n",
    "    )"
   ]
  },
  {
   "cell_type": "code",
   "execution_count": null,
   "id": "critical-choir",
   "metadata": {},
   "outputs": [],
   "source": []
  }
 ],
 "metadata": {
  "language_info": {
   "name": "python",
   "pygments_lexer": "ipython3"
  }
 },
 "nbformat": 4,
 "nbformat_minor": 5
}

{
 "cells": [
  {
   "cell_type": "code",
   "execution_count": null,
   "metadata": {},
   "outputs": [],
   "source": [
    "%reload_ext autoreload\n",
    "%autoreload 2\n",
    "import os\n",
    "\n",
    "os.environ[\"CUDA_VISIBLE_DEVICES\"] = \"0\""
   ]
  },
  {
   "cell_type": "code",
   "execution_count": null,
   "metadata": {},
   "outputs": [],
   "source": [
    "import math\n",
    "\n",
    "import pytorch_lightning as pl\n",
    "import torch\n",
    "from munch import Munch\n",
    "from torch.utils.data import DataLoader, random_split\n",
    "\n",
    "from qsr_learning.data import DRLDataset\n",
    "from qsr_learning.models import DRLNet"
   ]
  },
  {
   "cell_type": "code",
   "execution_count": null,
   "metadata": {},
   "outputs": [],
   "source": [
    "config = Munch()"
   ]
  },
  {
   "cell_type": "markdown",
   "metadata": {},
   "source": [
    "# Dataset"
   ]
  },
  {
   "cell_type": "code",
   "execution_count": null,
   "metadata": {},
   "outputs": [],
   "source": [
    "import random\n",
    "\n",
    "from qsr_learning.entity import emoji_names\n",
    "\n",
    "entity_names = random.sample(emoji_names, k=20)\n",
    "excluded_pair = random.sample(entity_names, k=2)"
   ]
  },
  {
   "cell_type": "code",
   "execution_count": null,
   "metadata": {},
   "outputs": [],
   "source": [
    "config.dataset = Munch(\n",
    "#     entity_names=[\"octopus\", \"trophy\", \"frog\", \"ghost\"],\n",
    "#     excluded_combinations=[],\n",
    "    relation_names=[\"left_of\", \"right_of\", \"above\", \"below\"],\n",
    "    num_entities=2,\n",
    "    frame_of_reference=\"intrinsic\",  # absolute\n",
    "    w_range=(32, 32),\n",
    "    h_range=(32, 32),\n",
    "    theta_range=(0, 2 * math.pi),\n",
    "    add_bbox=False,\n",
    "    add_front=False,\n",
    "    transform=None,\n",
    "    canvas_size=(224, 224),\n",
    "    num_samples=10 ** 5,\n",
    "    root_seed=0,\n",
    ")"
   ]
  },
  {
   "cell_type": "code",
   "execution_count": null,
   "metadata": {},
   "outputs": [],
   "source": [
    "train_dataset = DRLDataset(\n",
    "    **{\n",
    "        **config.dataset,\n",
    "        **dict(\n",
    "            entity_names=entity_names,\n",
    "            excluded_combinations=excluded_pair,\n",
    "            num_samples=10 ** 5,\n",
    "            root_seed=0,\n",
    "        ),\n",
    "    }\n",
    ")"
   ]
  },
  {
   "cell_type": "code",
   "execution_count": null,
   "metadata": {},
   "outputs": [],
   "source": [
    "validation_dataset = DRLDataset(\n",
    "    **{\n",
    "        **config.dataset,\n",
    "        **dict(\n",
    "            entity_names=excluded_pair,\n",
    "            excluded_combinations=[],\n",
    "            num_samples=10 ** 4,\n",
    "            root_seed=train_dataset.num_samples,\n",
    "        ),\n",
    "    }\n",
    ")"
   ]
  },
  {
   "cell_type": "markdown",
   "metadata": {},
   "source": [
    "# Data Loader"
   ]
  },
  {
   "cell_type": "code",
   "execution_count": null,
   "metadata": {},
   "outputs": [],
   "source": [
    "config.data_loader = Munch(\n",
    "    batch_size=256,\n",
    "    shuffle=True,\n",
    "    num_workers=16,\n",
    "    pin_memory=True,\n",
    ")"
   ]
  },
  {
   "cell_type": "code",
   "execution_count": null,
   "metadata": {},
   "outputs": [],
   "source": [
    "train_loader = DataLoader(train_dataset, **config.data_loader)\n",
    "validation_loader = DataLoader(\n",
    "    validation_dataset, **{**config.data_loader, \"shuffle\": False}\n",
    ")"
   ]
  },
  {
   "cell_type": "markdown",
   "metadata": {},
   "source": [
    "# Model"
   ]
  },
  {
   "cell_type": "code",
   "execution_count": null,
   "metadata": {},
   "outputs": [],
   "source": [
    "config.model = Munch(\n",
    "    vision_model=\"resnet18\",\n",
    "    image_size=(3, *config.dataset.canvas_size),\n",
    "    num_embeddings=len(train_dataset.word2idx),\n",
    "    embedding_dim=10,\n",
    "    question_len=train_dataset[0][1].shape.numel(),\n",
    ")"
   ]
  },
  {
   "cell_type": "code",
   "execution_count": null,
   "metadata": {},
   "outputs": [],
   "source": [
    "model = DRLNet(**config.model)"
   ]
  },
  {
   "cell_type": "markdown",
   "metadata": {},
   "source": [
    "# Trainer "
   ]
  },
  {
   "cell_type": "code",
   "execution_count": null,
   "metadata": {},
   "outputs": [],
   "source": [
    "config.trainer = Munch(\n",
    "    gpus=1,\n",
    "    max_epochs=100,\n",
    "    precision=32,\n",
    "    limit_train_batches=1.0,\n",
    "    limit_val_batches=1.0,\n",
    ")"
   ]
  },
  {
   "cell_type": "code",
   "execution_count": null,
   "metadata": {},
   "outputs": [],
   "source": [
    "from pathlib import Path\n",
    "\n",
    "import git\n",
    "from git.exc import RepositoryDirtyError\n",
    "from pytorch_lightning import loggers\n",
    "\n",
    "repo = git.Repo(Path(\".\").absolute(), search_parent_directories=True)\n",
    "if repo.is_dirty():\n",
    "    raise RepositoryDirtyError(repo, \"Have you forgotten to commit the changes?\")\n",
    "\n",
    "sha = repo.head.object.hexsha\n",
    "tb_logger = loggers.TensorBoardLogger(save_dir=\"lightning_logs\", name=\"\", version=sha)\n",
    "trainer = pl.Trainer(**{**config.trainer, **dict(logger=tb_logger)})\n",
    "trainer.fit(model, train_loader, validation_loader)"
   ]
  }
 ],
 "metadata": {
  "language_info": {
   "name": "python",
   "pygments_lexer": "ipython3"
  }
 },
 "nbformat": 4,
 "nbformat_minor": 5
}

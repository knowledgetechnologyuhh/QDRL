{
 "cells": [
  {
   "cell_type": "code",
   "execution_count": null,
   "metadata": {},
   "outputs": [],
   "source": [
    "%reload_ext autoreload\n",
    "%autoreload 2\n",
    "import os\n",
    "\n",
    "os.environ[\"CUDA_VISIBLE_DEVICES\"] = \"0\""
   ]
  },
  {
   "cell_type": "code",
   "execution_count": null,
   "metadata": {},
   "outputs": [],
   "source": [
    "import math\n",
    "\n",
    "import pytorch_lightning as pl\n",
    "import torch\n",
    "from munch import Munch\n",
    "from torch.utils.data import DataLoader, random_split\n",
    "\n",
    "from qsr_learning.data import DRLDataset\n",
    "from qsr_learning.models import DRLNet"
   ]
  },
  {
   "cell_type": "code",
   "execution_count": null,
   "metadata": {},
   "outputs": [],
   "source": [
    "config = Munch()"
   ]
  },
  {
   "cell_type": "markdown",
   "metadata": {},
   "source": [
    "# Dataset"
   ]
  },
  {
   "cell_type": "code",
   "execution_count": null,
   "metadata": {},
   "outputs": [],
   "source": [
    "import random\n",
    "\n",
    "from qsr_learning.entity import emoji_names\n",
    "\n",
    "entity_names = [\n",
    "    \"slightly smiling face\",\n",
    "    \"nerd face\",\n",
    "    \"smiling face with halo\",\n",
    "    \"expressionless face\",\n",
    "    \"flushed face\",\n",
    "    \"face with tears of joy\",\n",
    "    \"neutral face\",\n",
    "    \"smiling face with heart-eyes\",\n",
    "    \"face with medical mask\",\n",
    "    \"loudly crying face\",\n",
    "    \"hugging face\",\n",
    "    \"smiling face with smiling eyes\",\n",
    "    \"squinting face with tongue\",\n",
    "    \"face with steam from nose\",\n",
    "    \"dog face\",\n",
    "    \"cat face\",\n",
    "    \"face screaming in fear\",\n",
    "    \"pouting face\",\n",
    "    \"pig face\",\n",
    "    \"rabbit face\",\n",
    "    \"tiger face\",\n",
    "    \"monkey face\",\n",
    "    \"cow face\",\n",
    "    \"tired face\",\n",
    "    \"mouse face\",\n",
    "    \"dragon face\",\n",
    "    \"face with tongue\",\n",
    "    \"sun with face\",\n",
    "    \"worried face\",\n",
    "    \"dizzy face\",\n",
    "    \"face with open mouth\",\n",
    "    \"fearful face\",\n",
    "]\n",
    "excluded_entity_names = [\n",
    "    \"hugging face\",\n",
    "    \"fearful face\",\n",
    "    \"face with steam from nose\",\n",
    "    \"face with tongue\",\n",
    "    \"nerd face\",\n",
    "    \"expressionless face\",\n",
    "    \"dragon face\",\n",
    "    \"flushed face\",\n",
    "    \"cow face\",\n",
    "    \"smiling face with heart-eyes\",\n",
    "    \"sun with face\",\n",
    "    \"pig face\",\n",
    "    \"pouting face\",\n",
    "    \"smiling face with halo\",\n",
    "    \"slightly smiling face\",\n",
    "    \"worried face\",\n",
    "    \"neutral face\",\n",
    "    \"loudly crying face\",\n",
    "]\n",
    "relation_names = [\"left_of\", \"right_of\", \"above\", \"below\"]\n",
    "excluded_relation_names = [\"above\", \"below\"]\n",
    "print(\n",
    "    len(entity_names),\n",
    "    len(excluded_entity_names),\n",
    "    set(excluded_entity_names).issubset(set(entity_names)),\n",
    ")\n",
    "print(\n",
    "    len(relation_names),\n",
    "    len(excluded_relation_names),\n",
    "    set(excluded_relation_names).issubset(set(relation_names)),\n",
    ")"
   ]
  },
  {
   "cell_type": "code",
   "execution_count": null,
   "metadata": {},
   "outputs": [],
   "source": [
    "config.dataset = Munch(\n",
    "    entity_names=entity_names,\n",
    "    excluded_entity_names=excluded_entity_names,\n",
    "    relation_names=relation_names,\n",
    "    excluded_relation_names=excluded_relation_names,    \n",
    "    num_entities=2,\n",
    "    frame_of_reference=\"absolute\",\n",
    "    w_range=(16, 16),\n",
    "    h_range=(16, 16),\n",
    "    theta_range=(0, 0),\n",
    "    add_bbox=False,\n",
    "    add_front=False,\n",
    "    transform=None,\n",
    "    canvas_size=(128, 128),\n",
    "    num_samples=10 ** 6,\n",
    "    root_seed=0,\n",
    ")"
   ]
  },
  {
   "cell_type": "code",
   "execution_count": null,
   "metadata": {},
   "outputs": [],
   "source": [
    "train_dataset = DRLDataset(\n",
    "    **{\n",
    "        **config.dataset,\n",
    "        **dict(\n",
    "            num_samples=10 ** 6,\n",
    "            root_seed=0,\n",
    "        ),\n",
    "    }\n",
    ")\n",
    "validation_dataset_standard = DRLDataset(\n",
    "    **{\n",
    "        **config.dataset,\n",
    "        **dict(\n",
    "            num_samples=10 ** 4,\n",
    "            root_seed=train_dataset.num_samples,\n",
    "        ),\n",
    "    }\n",
    ")\n",
    "validation_dataset_compositional = DRLDataset(\n",
    "    **{\n",
    "        **config.dataset,\n",
    "        **dict(\n",
    "            entity_names=excluded_entity_names,\n",
    "            excluded_entity_names=[],\n",
    "            relation_names=excluded_relation_names,\n",
    "            excluded_relation_names=[],\n",
    "            num_samples=10 ** 4,\n",
    "            root_seed=train_dataset.num_samples\n",
    "            + validation_dataset_standard.num_samples,\n",
    "        ),\n",
    "    }\n",
    ")"
   ]
  },
  {
   "cell_type": "markdown",
   "metadata": {},
   "source": [
    "# Data Loader"
   ]
  },
  {
   "cell_type": "code",
   "execution_count": null,
   "metadata": {},
   "outputs": [],
   "source": [
    "config.data_loader = Munch(\n",
    "    batch_size=64,\n",
    "    shuffle=True,\n",
    "    num_workers=4,\n",
    "    pin_memory=True,\n",
    ")"
   ]
  },
  {
   "cell_type": "code",
   "execution_count": null,
   "metadata": {},
   "outputs": [],
   "source": [
    "train_loader = DataLoader(train_dataset, **config.data_loader)\n",
    "validation_loader_standard = DataLoader(\n",
    "    validation_dataset_standard, **{**config.data_loader, \"shuffle\": False}\n",
    ")\n",
    "validation_loader_compositional = DataLoader(\n",
    "    validation_dataset_compositional, **{**config.data_loader, \"shuffle\": False}\n",
    ")"
   ]
  },
  {
   "cell_type": "markdown",
   "metadata": {},
   "source": [
    "# Model"
   ]
  },
  {
   "cell_type": "code",
   "execution_count": null,
   "metadata": {},
   "outputs": [],
   "source": [
    "config.model = Munch(\n",
    "    vision_model=\"resnet18\",\n",
    "    image_size=(3, *config.dataset.canvas_size),\n",
    "    num_embeddings=len(train_dataset.word2idx),\n",
    "    embedding_dim=64,\n",
    "    hidden_size=128,\n",
    "    question_len=train_dataset[0][1].shape.numel(),\n",
    ")"
   ]
  },
  {
   "cell_type": "code",
   "execution_count": null,
   "metadata": {},
   "outputs": [],
   "source": [
    "model = DRLNet(**config.model)"
   ]
  },
  {
   "cell_type": "markdown",
   "metadata": {},
   "source": [
    "# Trainer "
   ]
  },
  {
   "cell_type": "code",
   "execution_count": null,
   "metadata": {},
   "outputs": [],
   "source": [
    "config.trainer = Munch(\n",
    "    gpus=[0],\n",
    "    max_epochs=10,\n",
    "    precision=32,\n",
    "    limit_train_batches=1.0,\n",
    "    limit_val_batches=1.0,\n",
    "    val_check_interval=0.1\n",
    ")"
   ]
  },
  {
   "cell_type": "code",
   "execution_count": null,
   "metadata": {},
   "outputs": [],
   "source": [
    "from pathlib import Path\n",
    "\n",
    "import git\n",
    "from git.exc import RepositoryDirtyError\n",
    "from pytorch_lightning import loggers\n",
    "\n",
    "repo = git.Repo(Path(\".\").absolute(), search_parent_directories=True)\n",
    "ROOT = Path(repo.working_tree_dir)"
   ]
  },
  {
   "cell_type": "code",
   "execution_count": null,
   "metadata": {},
   "outputs": [],
   "source": [
    "# if repo.is_dirty():\n",
    "#     raise RepositoryDirtyError(repo, \"Have you forgotten to commit the changes?\")\n",
    "# sha = repo.head.object.hexsha\n",
    "sha = \"test\""
   ]
  },
  {
   "cell_type": "code",
   "execution_count": null,
   "metadata": {},
   "outputs": [],
   "source": [
    "tb_logger = loggers.TensorBoardLogger(save_dir=ROOT / \"lightning_logs\", name=\"\", version=sha)\n",
    "trainer = pl.Trainer(**{**config.trainer, **dict(logger=tb_logger)})\n",
    "trainer.fit(\n",
    "    model, train_loader, [validation_loader_standard, validation_loader_compositional]\n",
    ")"
   ]
  }
 ],
 "metadata": {
  "language_info": {
   "name": "python",
   "pygments_lexer": "ipython3"
  }
 },
 "nbformat": 4,
 "nbformat_minor": 5
}

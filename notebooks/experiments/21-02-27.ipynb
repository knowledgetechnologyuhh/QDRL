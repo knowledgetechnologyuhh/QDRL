{
 "cells": [
  {
   "cell_type": "code",
   "execution_count": null,
   "id": "",
   "metadata": {},
   "outputs": [],
   "source": [
    "%reload_ext autoreload\n",
    "%autoreload 2"
   ]
  },
  {
   "cell_type": "code",
   "execution_count": null,
   "id": "",
   "metadata": {},
   "outputs": [],
   "source": [
    "from munch import Munch"
   ]
  },
  {
   "cell_type": "code",
   "execution_count": null,
   "id": "",
   "metadata": {},
   "outputs": [],
   "source": [
    "config = Munch()"
   ]
  },
  {
   "cell_type": "code",
   "execution_count": null,
   "id": "",
   "metadata": {},
   "outputs": [],
   "source": [
    "phases = [\"train\", \"validation\"]\n",
    "datasets = Munch({phase: DRLDataset(**config.data[phase]) for phase in phases})\n",
    "data_loader = Munch(\n",
    "    {\n",
    "        phase: DataLoader(\n",
    "            datasets[phase],\n",
    "            batch_size=config.train.batch_size,\n",
    "            num_workers=4,\n",
    "        )\n",
    "        for phase in phases\n",
    "    }\n",
    ")\n",
    "\n",
    "model = HadarmardFusionNet(datasets.train, **config.model)\n",
    "model.to(device)\n",
    "criterion = nn.BCELoss(reduction=\"sum\")\n",
    "optimizer = torch.optim.Adam(model.parameters(), lr=config.train.lr)\n"
   ]
  },
  {
   "cell_type": "code",
   "execution_count": null,
   "id": "",
   "metadata": {},
   "outputs": [],
   "source": [
    "from sklearn.metrics import accuracy_score"
   ]
  },
  {
   "cell_type": "code",
   "execution_count": null,
   "id": "",
   "metadata": {},
   "outputs": [],
   "source": [
    "class Train(nn.Module):\n",
    "    def __init__(self):\n",
    "        super().__init__(self)\n",
    "\n",
    "    def training_step(self, batch, batch_idx):\n",
    "        if self.freeze == \"all\":\n",
    "            model.image_encoder.eval()\n",
    "        images, questions, answers = batch\n",
    "        out = self(images, questions)\n",
    "        loss = criterion(out, answers)\n",
    "        self.log(\"train_loss\", loss)\n",
    "        self.log(\"train_accuracy\", accuracy_score(answers, out))\n",
    "        return loss\n",
    "\n",
    "    def configure_optimizers(self):\n",
    "        optimizer = torch.optim.Adam(self.parameters(), lr=1e-3)\n",
    "        return optimizer"
   ]
  },
  {
   "cell_type": "code",
   "execution_count": null,
   "id": "",
   "metadata": {},
   "outputs": [],
   "source": [
    "def train(config):\n",
    "    result = Munch()\n",
    "    for epoch in trange(config.train.num_epochs):\n",
    "        for phase in phases:\n",
    "            result[phase] = Munch()\n",
    "            result[phase].total_loss = 0\n",
    "            result[phase].num_correct = 0\n",
    "            for batch in data_loader[phase]:\n",
    "                step(\n",
    "                    model,\n",
    "                    criterion,\n",
    "                    optimizer,\n",
    "                    phase,\n",
    "                    batch,\n",
    "                    result,\n",
    "                    config.train.freeze,\n",
    "                    device,\n",
    "                )\n",
    "        report_result(epoch, phases, result, data_loader)\n",
    "        torch.save(model.state_dict(), \"model.pt\")"
   ]
  },
  {
   "cell_type": "code",
   "execution_count": null,
   "id": "",
   "metadata": {},
   "outputs": [],
   "source": [
    "train(config)"
   ]
  }
 ],
 "metadata": {
  "language_info": {
   "name": "python",
   "pygments_lexer": "ipython3"
  }
 },
 "nbformat": 4,
 "nbformat_minor": 5
}

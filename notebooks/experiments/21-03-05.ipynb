{
 "cells": [
  {
   "cell_type": "code",
   "execution_count": null,
   "id": "",
   "metadata": {},
   "outputs": [],
   "source": [
    "%reload_ext autoreload\n",
    "%autoreload 2"
   ]
  },
  {
   "cell_type": "code",
   "execution_count": null,
   "id": "",
   "metadata": {},
   "outputs": [],
   "source": [
    "import math\n",
    "\n",
    "from munch import Munch\n",
    "from qsr_learning.data import DRLDataset\n",
    "from qsr_learning.models import DRLNet\n",
    "from torch.utils.data import DataLoader\n",
    "\n",
    "config = Munch()"
   ]
  },
  {
   "cell_type": "markdown",
   "id": "",
   "metadata": {},
   "source": [
    "# Dataset"
   ]
  },
  {
   "cell_type": "code",
   "execution_count": null,
   "id": "",
   "metadata": {},
   "outputs": [],
   "source": [
    "config.dataset = Munch(\n",
    "    entity_names=[\"octopus\", \"trophy\"],\n",
    "    relation_names=[\"left_of\", \"right_of\"],\n",
    "    num_entities=2,\n",
    "    frame_of_reference=\"absolute\",\n",
    "    w_range=(32, 32),\n",
    "    h_range=(32, 32),\n",
    "    theta_range=(0, 2 * math.pi),\n",
    "    filter_fn=None,\n",
    "    add_bbox=False,\n",
    "    add_front=False,\n",
    "    transform=None,\n",
    "    canvas_size=(224, 224),\n",
    "    split=(8, 1, 1),\n",
    "    total_size=2 ** 4,\n",
    "    part=\"train\",\n",
    ")\n",
    "dataset = DRLDataset(**config.dataset)"
   ]
  },
  {
   "cell_type": "markdown",
   "id": "",
   "metadata": {},
   "source": [
    "# Data Loader"
   ]
  },
  {
   "cell_type": "code",
   "execution_count": null,
   "id": "",
   "metadata": {},
   "outputs": [],
   "source": [
    "config.data_loader = Munch(\n",
    "    batch_size=128,\n",
    "    shuffle=True,\n",
    "    num_workers=4,\n",
    ")\n",
    "data_loader = DataLoader(dataset, **config.data_loader)"
   ]
  },
  {
   "cell_type": "markdown",
   "id": "",
   "metadata": {},
   "source": [
    "# Model"
   ]
  },
  {
   "cell_type": "code",
   "execution_count": null,
   "id": "",
   "metadata": {},
   "outputs": [],
   "source": [
    "config.model = Munch(\n",
    "    vision_model=\"resnet18\",    \n",
    "    image_size=(3, *config.dataset.canvas_size),\n",
    "    num_embeddings=len(dataset.word2idx),    \n",
    "    embedding_dim=10,\n",
    "    question_len=dataset[0][1].shape.numel(),\n",
    ")\n",
    "model = DRLNet(**config.model)\n",
    "\n",
    "for batch in data_loader:\n",
    "    break\n",
    "\n",
    "model(batch[0], batch[1])"
   ]
  },
  {
   "cell_type": "code",
   "execution_count": null,
   "id": "",
   "metadata": {},
   "outputs": [],
   "source": []
  }
 ],
 "metadata": {
  "language_info": {
   "name": "python",
   "pygments_lexer": "ipython3"
  }
 },
 "nbformat": 4,
 "nbformat_minor": 5
}

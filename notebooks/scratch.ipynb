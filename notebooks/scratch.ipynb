{
 "cells": [
  {
   "cell_type": "markdown",
   "id": "",
   "metadata": {},
   "source": [
    "# Write and read images"
   ]
  },
  {
   "cell_type": "markdown",
   "id": "",
   "metadata": {},
   "source": [
    "## Variant 1"
   ]
  },
  {
   "cell_type": "code",
   "execution_count": null,
   "id": "",
   "metadata": {},
   "outputs": [],
   "source": [
    "import h5py\n",
    "import numpy as np\n",
    "from tqdm.auto import trange\n",
    "\n",
    "with h5py.File(\"data.h5\", \"w\") as file:\n",
    "    m = 100000\n",
    "    image_shape = (224, 224, 3)\n",
    "    images = file.create_dataset(\n",
    "        \"/images\",\n",
    "        shape=(m, *image_shape),\n",
    "        dtype=np.uint8,\n",
    "    )\n",
    "    questions = file.create_dataset(\n",
    "        \"/questions\",\n",
    "        shape=(m, 3),\n",
    "        dtype=np.uint16,\n",
    "    )\n",
    "    answers = file.create_dataset(\n",
    "        \"/answers\",\n",
    "        shape=(m, 3),\n",
    "        dtype=np.bool,\n",
    "    )\n",
    "    for i in trange(m):\n",
    "        image = np.random.randint(0, 255, (224, 224, 3), dtype=np.uint8)\n",
    "        question = np.random.randint(0, 6, (3,), dtype=np.uint16)\n",
    "        answer = np.random.randint(0, 1, (3,), dtype=np.bool)\n",
    "        images[i] = image\n",
    "        questions[i] = question\n",
    "        answers[i] = answer"
   ]
  },
  {
   "cell_type": "code",
   "execution_count": null,
   "id": "",
   "metadata": {},
   "outputs": [],
   "source": [
    "def load_sample(idx):\n",
    "    with h5py.File(\"data.h5\", \"r\") as file:\n",
    "        image = file[\"images\"][idx]\n",
    "        answer = file[\"answers\"][idx]\n",
    "        question = file[\"questions\"][idx]\n",
    "    return image, answer, question"
   ]
  },
  {
   "cell_type": "code",
   "execution_count": null,
   "id": "",
   "metadata": {},
   "outputs": [],
   "source": [
    "for i in trange(100000):\n",
    "    load_sample(i)"
   ]
  }
 ],
 "metadata": {
  "language_info": {
   "name": "python",
   "pygments_lexer": "ipython3"
  }
 },
 "nbformat": 4,
 "nbformat_minor": 5
}

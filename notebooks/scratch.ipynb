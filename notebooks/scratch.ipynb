{
 "cells": [
  {
   "cell_type": "code",
   "execution_count": null,
   "id": "interstate-evening",
   "metadata": {},
   "outputs": [],
   "source": [
    "%reload_ext autoreload\n",
    "%autoreload 2"
   ]
  },
  {
   "cell_type": "code",
   "execution_count": null,
   "id": "identified-springfield",
   "metadata": {},
   "outputs": [],
   "source": [
    "import torch\n",
    "import torchvision\n",
    "from munch import Munch\n",
    "from qsr_learning.data import DRLDataset, get_mean_and_std\n",
    "from qsr_learning.models import HadarmardFusionNet\n",
    "from torch.utils.data import DataLoader\n",
    "\n",
    "entity_names = [\"octopus\", \"trophy\"]\n",
    "relation_names = [\"left_of\", \"right_of\", \"above\", \"below\"]\n",
    "num_entities = 2\n",
    "frame_of_reference = \"absolute\"\n",
    "\n",
    "\n",
    "drl_dataset = DRLDataset(\n",
    "    entity_names=[\"octopus\", \"trophy\"],\n",
    "    relation_names=[\"left_of\", \"right_of\"],\n",
    "    num_entities=2,\n",
    "    frame_of_reference=\"absolute\",\n",
    "    num_examples=8,\n",
    "    transform=torchvision.transforms.Compose(\n",
    "        [\n",
    "            torchvision.transforms.ToTensor(),\n",
    "            torchvision.transforms.Normalize(\n",
    "                *get_mean_and_std(\n",
    "                    entity_names, relation_names, num_entities, frame_of_reference\n",
    "                )\n",
    "            ),\n",
    "        ]\n",
    "    ),\n",
    ")\n",
    "\n",
    "\n",
    "config = Munch(\n",
    "    pretrained=False,\n",
    "    ent_dim=4,\n",
    "    rel_dim=4,\n",
    ")\n",
    "\n",
    "model = HadarmardFusionNet(config, drl_dataset)\n",
    "\n",
    "loader = DataLoader(drl_dataset, batch_size=8)\n",
    "\n",
    "for batch in loader:\n",
    "    images, questions, answers = batch\n",
    "    break\n",
    "\n",
    "model(images, questions)"
   ]
  }
 ],
 "metadata": {
  "language_info": {
   "name": "python",
   "pygments_lexer": "ipython3"
  }
 },
 "nbformat": 4,
 "nbformat_minor": 5
}

{
 "cells": [
  {
   "cell_type": "code",
   "execution_count": null,
   "id": "bridal-apartment",
   "metadata": {},
   "outputs": [],
   "source": [
    "%reload_ext autoreload\n",
    "%autoreload 2"
   ]
  },
  {
   "cell_type": "markdown",
   "id": "grand-applicant",
   "metadata": {},
   "source": [
    "# Directional Relation Learning Dataset"
   ]
  },
  {
   "cell_type": "code",
   "execution_count": null,
   "id": "legislative-pioneer",
   "metadata": {},
   "outputs": [],
   "source": [
    "from qsr_learning.data import draw_entities, generate_entities, generate_questions\n",
    "from qsr_learning.entity import emoji_names\n",
    "from qsr_learning.relation import above, below, left_of, right_of\n",
    "\n",
    "relations = [above, below, left_of, right_of]\n",
    "entity_names = [\"octopus\", \"trophy\"]\n",
    "relation_names = [relation.__name__ for relation in relations]\n",
    "\n",
    "idx2ent, ent2idx = {}, {}\n",
    "for idx, entity_name in enumerate(sorted(entity_names)):\n",
    "    idx2ent[idx] = entity_name\n",
    "    ent2idx[entity_name] = idx\n",
    "\n",
    "idx2rel, rel2idx = {}, {}\n",
    "for idx, relation_name in enumerate(sorted(relation_names)):\n",
    "    idx2rel[idx] = relation_name\n",
    "    rel2idx[relation_name] = idx"
   ]
  },
  {
   "cell_type": "code",
   "execution_count": null,
   "id": "embedded-dinner",
   "metadata": {},
   "outputs": [],
   "source": [
    "def question2idx_tuple(question):\n",
    "    entity1, relation, entity2 = question\n",
    "    return ent2idx[entity1], rel2idx[relation], ent2idx[entity2]"
   ]
  },
  {
   "cell_type": "code",
   "execution_count": null,
   "id": "coastal-canon",
   "metadata": {},
   "outputs": [],
   "source": [
    "def generate_data(entity_names, num_entities, frame_of_reference=\"absolute\"):\n",
    "    entities = generate_entities(\n",
    "        entity_names=entity_names,\n",
    "        num_entities=2,\n",
    "        frame_of_reference=frame_of_reference,\n",
    "        w_range=(32, 32),\n",
    "        h_range=(32, 32),\n",
    "    )\n",
    "\n",
    "    image = draw_entities(entities, show_bbox=True, orientation_marker=False)\n",
    "\n",
    "    positive_questions, negative_questions = generate_questions(entities, relations)\n",
    "    questions = [question2idx_tuple(question) for question in positive_questions] + [\n",
    "        question2idx_tuple(question) for question in negative_questions\n",
    "    ]\n",
    "\n",
    "    answers = [1] * len(positive_questions) + [0] * len(negative_questions)\n",
    "    return image, questions, answers"
   ]
  },
  {
   "cell_type": "code",
   "execution_count": null,
   "id": "refined-design",
   "metadata": {},
   "outputs": [],
   "source": [
    "image, questions, answers = generate_data(\n",
    "    entity_names=[\"octopus\", \"trophy\"], num_entities=2, frame_of_reference=\"absolute\"\n",
    ")\n",
    "display(image, questions, answers)"
   ]
  },
  {
   "cell_type": "markdown",
   "id": "specified-cancer",
   "metadata": {},
   "source": [
    "Create an iterable dataset where the order of the questions/answers are shuffled. Check the [documentation](https://pytorch.org/docs/stable/data.html#iterable-style-datasets)."
   ]
  },
  {
   "cell_type": "code",
   "execution_count": null,
   "id": "cubic-commonwealth",
   "metadata": {},
   "outputs": [],
   "source": [
    "from torch.utils.data import DataLoader, Dataset\n",
    "\n",
    "\n",
    "class DRLDataset(Dataset):\n",
    "    def __init__(self, entity_names):\n",
    "        super().__init__()\n",
    "        pass\n",
    "\n",
    "    def __getitem__(self, idx):\n",
    "        pass\n",
    "\n",
    "    def __len__(self):\n",
    "        pass"
   ]
  },
  {
   "cell_type": "code",
   "execution_count": null,
   "id": "marine-moderator",
   "metadata": {},
   "outputs": [],
   "source": []
  }
 ],
 "metadata": {
  "language_info": {
   "name": "python",
   "pygments_lexer": "ipython3"
  }
 },
 "nbformat": 4,
 "nbformat_minor": 5
}

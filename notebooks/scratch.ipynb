{
 "cells": [
  {
   "cell_type": "code",
   "execution_count": null,
   "metadata": {},
   "outputs": [],
   "source": [
    "%reload_ext autoreload\n",
    "%autoreload 2"
   ]
  },
  {
   "cell_type": "markdown",
   "metadata": {},
   "source": [
    "# Lab"
   ]
  },
  {
   "cell_type": "markdown",
   "metadata": {},
   "source": [
    "# Entity"
   ]
  },
  {
   "cell_type": "code",
   "execution_count": null,
   "metadata": {},
   "outputs": [],
   "source": [
    "import numpy as np\n",
    "from munch import Munch\n",
    "\n",
    "\n",
    "class Entity:\n",
    "    def __init__(self, w, h, p=(0, 0), theta=0, name=None, color=None):\n",
    "        self.bbox_float = np.array([[0, 0], [0, h], [w, h], [w, 0]])\n",
    "        self.rotate(theta)\n",
    "        self.translate(p)\n",
    "        self.name = name\n",
    "        self.color = color\n",
    "\n",
    "    def draw(self, base, orientation_marker=True):\n",
    "        d = ImageDraw.Draw(base)\n",
    "        d.polygon(\n",
    "            [tuple(p) for p in self.bbox],\n",
    "            fill=self.color if self.color else (0, 0, 0, 255),\n",
    "        )\n",
    "        if orientation_marker:\n",
    "            bottom_left = ((self.bbox_float[0] - self.bbox_float[1]) / 10).astype(\n",
    "                int\n",
    "            ) + self.top_left\n",
    "            bottom_right = ((self.bbox_float[3] - self.bbox_float[2]) / 10).astype(\n",
    "                int\n",
    "            ) + self.top_right\n",
    "            d.polygon(\n",
    "                [\n",
    "                    tuple(p)\n",
    "                    for p in (bottom_left, self.top_left, self.top_right, bottom_right)\n",
    "                ],\n",
    "                fill=(255, 255, 255, 255),\n",
    "            )\n",
    "        return base\n",
    "\n",
    "    def rotate(self, theta):\n",
    "        c, s = np.cos(theta), np.sin(theta)\n",
    "        R = np.array([[c, -s], [s, c]])\n",
    "        self.bbox_float = self.bbox_float @ R.transpose()\n",
    "\n",
    "    def translate(self, p):\n",
    "        self.bbox_float += np.array(p)\n",
    "\n",
    "    @property\n",
    "    def bbox(self):\n",
    "        \"\"\"Round the oringinal bbox coordinates.\"\"\"\n",
    "        return self.bbox_float.round().astype(int)\n",
    "\n",
    "    @property\n",
    "    def bottom_left(self):\n",
    "        return self.bbox[0]\n",
    "\n",
    "    @property\n",
    "    def top_left(self):\n",
    "        return self.bbox[1]\n",
    "\n",
    "    @property\n",
    "    def top_right(self):\n",
    "        return self.bbox[2]\n",
    "\n",
    "    @property\n",
    "    def bottom_right(self):\n",
    "        return self.bbox[3]\n",
    "\n",
    "    def __repr__(self):\n",
    "        return f\"{self.name}: {', '.join(str(tuple(p)) for p in self.bbox)}\"\n",
    "\n",
    "\n",
    "# Tests\n",
    "def test_entity():\n",
    "    w = 2\n",
    "    h = 3\n",
    "    p = (1, 2)\n",
    "    theta = np.pi / 2\n",
    "\n",
    "    entity = Entity(w, h, p=p, theta=theta)\n",
    "\n",
    "    assert np.allclose(entity.top_left, np.array([-2, 2]))\n",
    "    assert np.allclose(entity.top_right, np.array([-2, 4]))\n",
    "    assert np.allclose(entity.bottom_left, np.array([1, 2]))\n",
    "    assert np.allclose(entity.bottom_right, np.array([1, 4]))"
   ]
  },
  {
   "cell_type": "markdown",
   "metadata": {},
   "source": [
    "# Relations"
   ]
  },
  {
   "cell_type": "code",
   "execution_count": null,
   "metadata": {},
   "outputs": [],
   "source": [
    "def point_left_of_directed_line(point, dline):\n",
    "    p = point\n",
    "    q = dline.point\n",
    "    d = dline.vector\n",
    "    d_rot = np.array([-d[1], d[0]])  # d rotated by 90 degree\n",
    "    return (p - q) @ d_rot > 0\n",
    "\n",
    "\n",
    "def point_right_of_directed_line(point, dline):\n",
    "    p = point\n",
    "    q = dline.point\n",
    "    d = dline.vector\n",
    "    d_rot = np.array([-d[1], d[0]])  # d rotated by 90 degree\n",
    "    return (p - q) @ d_rot < 0\n",
    "\n",
    "\n",
    "def left_of(entity1, entity2):\n",
    "    dline = Munch(\n",
    "        point=entity2.bottom_left, vector=entity2.top_left - entity2.bottom_left\n",
    "    )\n",
    "    return all(\n",
    "        point_left_of_directed_line(p, dline)\n",
    "        for p in (\n",
    "            entity1.top_left,\n",
    "            entity1.top_right,\n",
    "            entity1.bottom_left,\n",
    "            entity1.bottom_right,\n",
    "        )\n",
    "    )\n",
    "\n",
    "\n",
    "def right_of(entity1, entity2):\n",
    "    dline = Munch(\n",
    "        point=entity2.bottom_right, vector=entity2.top_right - entity2.bottom_right\n",
    "    )\n",
    "    return all(\n",
    "        point_right_of_directed_line(p, dline)\n",
    "        for p in (\n",
    "            entity1.top_left,\n",
    "            entity1.top_right,\n",
    "            entity1.bottom_left,\n",
    "            entity1.bottom_right,\n",
    "        )\n",
    "    )\n",
    "\n",
    "\n",
    "def above(entity1, entity2):\n",
    "    dline = Munch(point=entity2.top_left, vector=entity2.top_right - entity2.top_left)\n",
    "    return all(\n",
    "        point_left_of_directed_line(p, dline)\n",
    "        for p in (\n",
    "            entity1.top_left,\n",
    "            entity1.top_right,\n",
    "            entity1.bottom_left,\n",
    "            entity1.bottom_right,\n",
    "        )\n",
    "    )\n",
    "\n",
    "\n",
    "def below(entity1, entity2):\n",
    "    dline = Munch(\n",
    "        point=entity2.bottom_left, vector=entity2.bottom_right - entity2.bottom_left\n",
    "    )\n",
    "    return all(\n",
    "        point_right_of_directed_line(p, dline)\n",
    "        for p in (\n",
    "            entity1.top_left,\n",
    "            entity1.top_right,\n",
    "            entity1.bottom_left,\n",
    "            entity1.bottom_right,\n",
    "        )\n",
    "    )\n",
    "\n",
    "\n",
    "# Tests\n",
    "def test_left_of():\n",
    "    entity1 = Entity(2, 3)\n",
    "    entity2 = Entity(2, 3, p=(3, 3))\n",
    "    assert left_of(entity1, entity2)\n",
    "\n",
    "\n",
    "def test_right_of():\n",
    "    entity1 = Entity(2, 3)\n",
    "    entity2 = Entity(2, 3, p=(3, 3))\n",
    "    assert right_of(entity2, entity1)"
   ]
  },
  {
   "cell_type": "markdown",
   "metadata": {},
   "source": [
    "## Start with what you want to have and write tests."
   ]
  },
  {
   "cell_type": "code",
   "execution_count": null,
   "metadata": {},
   "outputs": [],
   "source": [
    "entity1 = Entity(32, 32, p=(32, 32), theta=30)\n",
    "entity2 = Entity(32, 32, p=(64, 64), theta=30)"
   ]
  },
  {
   "cell_type": "code",
   "execution_count": null,
   "metadata": {},
   "outputs": [],
   "source": [
    "from PIL import Image, ImageDraw, ImageFont, ImageOps\n",
    "\n",
    "# make a blank image for the text, initialized to transparent text color\n",
    "base = Image.new(\"RGBA\", (224, 224), (255, 255, 255, 50))\n",
    "entity1.draw(base)\n",
    "ImageOps.flip(entity2.draw(base))"
   ]
  },
  {
   "cell_type": "code",
   "execution_count": null,
   "metadata": {},
   "outputs": [],
   "source": [
    "base = Image.new(\"RGBA\", (224, 224), (255, 255, 255, 50))\n",
    "entity1.draw(base, orientation_marker=True)\n",
    "ImageOps.flip(entity2.draw(base, orientation_marker=True))"
   ]
  },
  {
   "cell_type": "code",
   "execution_count": null,
   "metadata": {},
   "outputs": [],
   "source": [
    "from ipywidgets import interact\n",
    "\n",
    "@interact(\n",
    "    x1=(0, 150),\n",
    "    y1=(0, 150),\n",
    "    w1=(10, 150),\n",
    "    h1=(10, 150),\n",
    "    theta1=(0.0, 2 * np.pi, 2 * np.pi / 360),\n",
    "    x2=(0, 150),\n",
    "    y2=(0, 150),\n",
    "    w2=(10, 150),\n",
    "    h2=(10, 150),\n",
    "    theta2=(0.0, 2 * np.pi, 2 * np.pi / 360),\n",
    ")\n",
    "def test_spatial_relations(\n",
    "    x1=3, y1=30, w1=30, h1=30, theta1=0.0, x2=60, y2=60, w2=30, h2=30, theta2=0.0\n",
    "):\n",
    "    base = Image.new(\"RGBA\", (224, 224), (255, 255, 255, 20))\n",
    "    entity1 = Entity(w1, h1, p=(x1, y1), theta=theta1, name=\"green\", color=\"green\")\n",
    "    entity2 = Entity(w2, h2, p=(x2, y2), theta=theta2, name=\"red\", color=\"red\")\n",
    "    entity1.draw(base)\n",
    "    entity2.draw(base)\n",
    "    display(ImageOps.flip(base))\n",
    "    print(entity1)\n",
    "    print(entity2)\n",
    "    print(\n",
    "        \"left_of({}, {}): {}\".format(\n",
    "            entity1.name, entity2.name, left_of(entity1, entity2)\n",
    "        )\n",
    "    )\n",
    "    print(\n",
    "        \"right_of({}, {}): {}\".format(\n",
    "            entity1.name, entity2.name, right_of(entity1, entity2)\n",
    "        )\n",
    "    )\n",
    "    print(\n",
    "        \"above({}, {}): {}\".format(entity1.name, entity2.name, above(entity1, entity2))\n",
    "    )\n",
    "    print(\n",
    "        \"below({}, {}): {}\".format(entity1.name, entity2.name, below(entity1, entity2))\n",
    "    )"
   ]
  },
  {
   "cell_type": "code",
   "execution_count": null,
   "metadata": {},
   "outputs": [],
   "source": [
    "args = Munch(x1=3, y1=30, w1=30, h1=30, theta1=0.0, x2=60, y2=60, w2=30, h2=30, theta2=0.0)\n",
    "base = Image.new(\"RGBA\", (224, 224), (255, 255, 255, 20))\n",
    "entity1 = Entity(args.w1, args.h1, p=(args.x1, args.y1), theta=args.theta1, name=\"green\", color=\"green\")\n",
    "entity1.draw(base)"
   ]
  },
  {
   "cell_type": "code",
   "execution_count": null,
   "metadata": {},
   "outputs": [],
   "source": [
    "np.array(entity1.draw(base))[:, :, 3].max()"
   ]
  },
  {
   "cell_type": "code",
   "execution_count": null,
   "metadata": {},
   "outputs": [],
   "source": [
    "import math\n",
    "import random\n",
    "from itertools import product\n",
    "\n",
    "from PIL import ImageOps\n",
    "\n",
    "canvas_size = Munch(w=224, h=224)\n",
    "num_entities = 5\n",
    "ranges = Munch(w=(10, 30), h=(10, 30), x=(0, 224), y=(0, 224), theta=(0, math.pi))\n",
    "relations = (left_of, right_of, above, below)\n",
    "\n",
    "\n",
    "def inside_canvas(entity, canvas_size):\n",
    "    xs_inside_canvas = all(\n",
    "        (0 < entity.bbox[:, 0]) & (entity.bbox[:, 0] < canvas_size.w)\n",
    "    )\n",
    "    ys_inside_canvas = all(\n",
    "        (0 < entity.bbox[:, 1]) & (entity.bbox[:, 1] < canvas_size.h)\n",
    "    )\n",
    "    return xs_inside_canvas and ys_inside_canvas\n",
    "\n",
    "\n",
    "def in_relation(entity1, entity2, relations):\n",
    "    return any(relation(entity1, entity2) for relation in relations)\n",
    "\n",
    "\n",
    "\n",
    "entities_origin = []\n",
    "for i in range(num_entities):\n",
    "    w = random.uniform(*ranges.w)\n",
    "    h = random.uniform(*ranges.h)\n",
    "    entities_origin.append(Entity(w, h, name=str(i)))"
   ]
  },
  {
   "cell_type": "code",
   "execution_count": null,
   "metadata": {},
   "outputs": [],
   "source": [
    "from copy import deepcopy"
   ]
  },
  {
   "cell_type": "code",
   "execution_count": null,
   "metadata": {},
   "outputs": [],
   "source": [
    "entities_in_canvas = entities_in_relation = False\n",
    "while not (entities_in_canvas and entities_in_relation):\n",
    "    entities = deepcopy(entities_origin)\n",
    "    for entity in entities:\n",
    "        theta = random.uniform(*ranges.theta)\n",
    "        entity.rotate(theta)\n",
    "\n",
    "    for entity in entities:\n",
    "        p = (random.uniform(*ranges.x), random.uniform(*ranges.y))\n",
    "        entity.translate(p)\n",
    "\n",
    "    entities_in_canvas = all(inside_canvas(entity, canvas_size) for entity in entities)\n",
    "    entities_in_relation = all(\n",
    "        in_relation(entity1, entity2, relations)\n",
    "        for entity1, entity2 in product(entities, repeat=2)\n",
    "        if entity1 != entity2\n",
    "    )\n",
    "\n",
    "\n",
    "# Draw the image vertically flipped\n",
    "canvas = Image.new(\"RGBA\", (canvas_size.h, canvas_size.w), (255, 255, 255, 20))\n",
    "for entity in entities:\n",
    "    entity.draw(canvas)\n",
    "display(ImageOps.flip(canvas))"
   ]
  },
  {
   "cell_type": "code",
   "execution_count": null,
   "metadata": {},
   "outputs": [],
   "source": [
    "entities"
   ]
  },
  {
   "cell_type": "code",
   "execution_count": null,
   "metadata": {},
   "outputs": [],
   "source": [
    "all(\n",
    "    in_relation(entity1, entity2, relations)\n",
    "    for entity1, entity2 in product(entities, repeat=2)\n",
    "    if entity1 != entity2\n",
    ")"
   ]
  },
  {
   "cell_type": "code",
   "execution_count": null,
   "metadata": {},
   "outputs": [],
   "source": [
    "canvas = Image.new(\"RGBA\", (canvas_size.h, canvas_size.w), (255, 255, 255, 20))\n",
    "ImageOps.flip(entities[0].draw(canvas))"
   ]
  },
  {
   "cell_type": "code",
   "execution_count": null,
   "metadata": {},
   "outputs": [],
   "source": [
    "canvas = Image.new(\"RGBA\", (canvas_size.h, canvas_size.w), (255, 255, 255, 20))\n",
    "ImageOps.flip(entities[1].draw(canvas))"
   ]
  },
  {
   "cell_type": "code",
   "execution_count": null,
   "metadata": {},
   "outputs": [],
   "source": [
    "in_relation(entities[0], entities[1], relations)"
   ]
  },
  {
   "cell_type": "code",
   "execution_count": null,
   "metadata": {},
   "outputs": [],
   "source": [
    "left_of(entities[0], entities[1])"
   ]
  }
 ],
 "metadata": {
  "language_info": {
   "name": "python",
   "pygments_lexer": "ipython3"
  }
 },
 "nbformat": 4,
 "nbformat_minor": 4
}

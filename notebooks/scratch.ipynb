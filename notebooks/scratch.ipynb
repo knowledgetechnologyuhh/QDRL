{
 "cells": [
  {
   "cell_type": "code",
   "execution_count": null,
   "metadata": {},
   "outputs": [],
   "source": [
    "%reload_ext autoreload\n",
    "%autoreload 2"
   ]
  },
  {
   "cell_type": "markdown",
   "metadata": {},
   "source": [
    "# Scratch"
   ]
  },
  {
   "cell_type": "markdown",
   "metadata": {},
   "source": [
    "## Entity"
   ]
  },
  {
   "cell_type": "code",
   "execution_count": null,
   "metadata": {},
   "outputs": [],
   "source": []
  },
  {
   "cell_type": "markdown",
   "metadata": {},
   "source": [
    "## Relations"
   ]
  },
  {
   "cell_type": "code",
   "execution_count": null,
   "metadata": {},
   "outputs": [],
   "source": [
    "def point_left_of_directed_line(point, dline):\n",
    "    p = point\n",
    "    q = dline.point\n",
    "    d = dline.vector\n",
    "    d_rot = np.array([-d[1], d[0]])  # d rotated by 90 degree\n",
    "    return (p - q) @ d_rot > 0\n",
    "\n",
    "\n",
    "def point_right_of_directed_line(point, dline):\n",
    "    p = point\n",
    "    q = dline.point\n",
    "    d = dline.vector\n",
    "    d_rot = np.array([-d[1], d[0]])  # d rotated by 90 degree\n",
    "    return (p - q) @ d_rot < 0\n",
    "\n",
    "\n",
    "def left_of(entity1, entity2):\n",
    "    dline = Munch(\n",
    "        point=entity2.bottom_left, vector=entity2.top_left - entity2.bottom_left\n",
    "    )\n",
    "    return all(\n",
    "        point_left_of_directed_line(p, dline)\n",
    "        for p in (\n",
    "            entity1.top_left,\n",
    "            entity1.top_right,\n",
    "            entity1.bottom_left,\n",
    "            entity1.bottom_right,\n",
    "        )\n",
    "    )\n",
    "\n",
    "\n",
    "def right_of(entity1, entity2):\n",
    "    dline = Munch(\n",
    "        point=entity2.bottom_right, vector=entity2.top_right - entity2.bottom_right\n",
    "    )\n",
    "    return all(\n",
    "        point_right_of_directed_line(p, dline)\n",
    "        for p in (\n",
    "            entity1.top_left,\n",
    "            entity1.top_right,\n",
    "            entity1.bottom_left,\n",
    "            entity1.bottom_right,\n",
    "        )\n",
    "    )\n",
    "\n",
    "\n",
    "def above(entity1, entity2):\n",
    "    dline = Munch(point=entity2.top_left, vector=entity2.top_right - entity2.top_left)\n",
    "    return all(\n",
    "        point_left_of_directed_line(p, dline)\n",
    "        for p in (\n",
    "            entity1.top_left,\n",
    "            entity1.top_right,\n",
    "            entity1.bottom_left,\n",
    "            entity1.bottom_right,\n",
    "        )\n",
    "    )\n",
    "\n",
    "\n",
    "def below(entity1, entity2):\n",
    "    dline = Munch(\n",
    "        point=entity2.bottom_left, vector=entity2.bottom_right - entity2.bottom_left\n",
    "    )\n",
    "    return all(\n",
    "        point_right_of_directed_line(p, dline)\n",
    "        for p in (\n",
    "            entity1.top_left,\n",
    "            entity1.top_right,\n",
    "            entity1.bottom_left,\n",
    "            entity1.bottom_right,\n",
    "        )\n",
    "    )\n",
    "\n",
    "\n",
    "# Tests\n",
    "def test_left_of():\n",
    "    entity1 = Entity(2, 3)\n",
    "    entity2 = Entity(2, 3, p=(3, 3))\n",
    "    assert left_of(entity1, entity2)\n",
    "\n",
    "\n",
    "def test_right_of():\n",
    "    entity1 = Entity(2, 3)\n",
    "    entity2 = Entity(2, 3, p=(3, 3))\n",
    "    assert right_of(entity2, entity1)"
   ]
  },
  {
   "cell_type": "markdown",
   "metadata": {},
   "source": [
    "## Dataset Generator"
   ]
  },
  {
   "cell_type": "code",
   "execution_count": null,
   "metadata": {},
   "outputs": [],
   "source": [
    "import math\n",
    "import random\n",
    "from copy import deepcopy\n",
    "from itertools import product\n",
    "from typing import Callable\n",
    "\n",
    "from PIL import ImageOps\n",
    "\n",
    "canvas_size = Munch(w=224, h=224)\n",
    "num_entities = 5\n",
    "ranges = Munch(w=(10, 30), h=(10, 30), x=(0, 224), y=(0, 224), theta=(0, math.pi))\n",
    "relations = (left_of, right_of, above, below)\n",
    "\n",
    "\n",
    "def inside_canvas(entity, canvas_size):\n",
    "    xs_inside_canvas = all(\n",
    "        (0 < entity.bbox[:, 0]) & (entity.bbox[:, 0] < canvas_size.w)\n",
    "    )\n",
    "    ys_inside_canvas = all(\n",
    "        (0 < entity.bbox[:, 1]) & (entity.bbox[:, 1] < canvas_size.h)\n",
    "    )\n",
    "    return xs_inside_canvas and ys_inside_canvas\n",
    "\n",
    "\n",
    "def in_relation(\n",
    "    entity1: Entity, entity2: Entity, relations: Callable[[Entity, Entity], bool]\n",
    ") -> bool:\n",
    "    \"\"\"Check whether entity1 and entity2 satisfy any of the given relations.\"\"\"\n",
    "    return any(relation(entity1, entity2) for relation in relations)\n",
    "\n",
    "\n",
    "entities_origin = []\n",
    "for i in range(num_entities):\n",
    "    w = random.uniform(*ranges.w)\n",
    "    h = random.uniform(*ranges.h)\n",
    "    entities_origin.append(Entity(w, h, name=str(i)))"
   ]
  },
  {
   "cell_type": "code",
   "execution_count": null,
   "metadata": {},
   "outputs": [],
   "source": [
    "entities_in_canvas = entities_in_relation = False\n",
    "while not (entities_in_canvas and entities_in_relation):\n",
    "    entities = deepcopy(entities_origin)\n",
    "    for entity in entities:\n",
    "        theta = random.uniform(*ranges.theta)\n",
    "        entity.rotate(theta)\n",
    "\n",
    "    for entity in entities:\n",
    "        p = (random.uniform(*ranges.x), random.uniform(*ranges.y))\n",
    "        entity.translate(p)\n",
    "\n",
    "    entities_in_canvas = all(inside_canvas(entity, canvas_size) for entity in entities)\n",
    "    entities_in_relation = all(\n",
    "        in_relation(entity1, entity2, relations)\n",
    "        for entity1, entity2 in product(entities, repeat=2)\n",
    "        if entity1 != entity2\n",
    "    )"
   ]
  },
  {
   "cell_type": "code",
   "execution_count": null,
   "metadata": {},
   "outputs": [],
   "source": [
    "# Show the image vertically flipped\n",
    "canvas = Image.new(\"RGBA\", (canvas_size.h, canvas_size.w), (255, 255, 255, 20))\n",
    "for entity in entities:\n",
    "    entity.draw(canvas)\n",
    "display(ImageOps.flip(canvas))"
   ]
  },
  {
   "cell_type": "markdown",
   "metadata": {},
   "source": [
    "# Start with what you want to have and write tests."
   ]
  },
  {
   "cell_type": "markdown",
   "metadata": {},
   "source": [
    "The model receives as its input\n",
    "\n",
    "- An image that is represented by a list of entities, where each entity `e` is an 9-tuple consisting of its name `e.name` and its four bounding box coordinates `e.bbox = (bottom_left, top_left, top_right, bottom_right)`, which comprise the remaining $8 = 4 \\times 2$ entries of the 9-tuple.\n",
    "    - The orientation of each entity is determined by its second and third coordinates.\n",
    "    - To process the input one could use Transformer or graph neural networks, where the graph is supposed to be complete (i.e., each pair of vertices is joined by an edge).\n",
    "- A question that is represented by a triple `(entity1, relation, entity2)` or `(entity1, relation, entity2, entity3)`\n",
    "\n",
    "There may be already an existing model that is similar to this. I would need to check this out."
   ]
  },
  {
   "cell_type": "markdown",
   "metadata": {},
   "source": [
    "## Dataset"
   ]
  },
  {
   "cell_type": "code",
   "execution_count": null,
   "metadata": {},
   "outputs": [],
   "source": [
    "import torch\n",
    "\n",
    "from torch.utils.data import Dataset, DataLoader\n",
    "\n",
    "class RelationLearningDataset(Dataset):\n",
    "    def __init__(self):\n",
    "        super().__init__()\n",
    "\n",
    "    def __getitem__(self, idx):\n",
    "\n",
    "        # [entity_id, bottom_left_x, bottom_left_y, top_left_x, top_left_y, top_right_x, top_right_y, bottom_right_x, bottom_right_y]\n",
    "        image = torch.tensor([0, 0, 0, 0, 1, 1, 1, 1, 0], dtype=torch.float)\n",
    "        question = torch.tensor([0, 0, 1], dtype=torch.float)\n",
    "        return image, question\n",
    "\n",
    "    def __len__(self):\n",
    "        return 1\n",
    "\n",
    "loader = DataLoader(RelationLearningDataset(), batch_size=1)\n",
    "\n",
    "for batch in loader:\n",
    "    print(batch)"
   ]
  },
  {
   "cell_type": "markdown",
   "metadata": {},
   "source": [
    "# Tests"
   ]
  },
  {
   "cell_type": "markdown",
   "metadata": {},
   "source": [
    "## Entities"
   ]
  },
  {
   "cell_type": "code",
   "execution_count": null,
   "metadata": {},
   "outputs": [],
   "source": [
    "from PIL import Image, ImageDraw, ImageFont, ImageOps\n",
    "\n",
    "entity1 = Entity(32, 32, p=(32, 32), theta=30)\n",
    "entity2 = Entity(32, 32, p=(64, 64), theta=30)\n",
    "\n",
    "# make a blank image for the text, initialized to transparent text color\n",
    "base = Image.new(\"RGBA\", (224, 224), (255, 255, 255, 50))\n",
    "entity1.draw(base)\n",
    "ImageOps.flip(entity2.draw(base))"
   ]
  },
  {
   "cell_type": "markdown",
   "metadata": {},
   "source": [
    "## Relations"
   ]
  },
  {
   "cell_type": "code",
   "execution_count": null,
   "metadata": {},
   "outputs": [],
   "source": [
    "from ipywidgets import interact\n",
    "\n",
    "@interact(\n",
    "    x1=(0, 150),\n",
    "    y1=(0, 150),\n",
    "    w1=(10, 150),\n",
    "    h1=(10, 150),\n",
    "    theta1=(0.0, 2 * np.pi, 2 * np.pi / 360),\n",
    "    x2=(0, 150),\n",
    "    y2=(0, 150),\n",
    "    w2=(10, 150),\n",
    "    h2=(10, 150),\n",
    "    theta2=(0.0, 2 * np.pi, 2 * np.pi / 360),\n",
    ")\n",
    "def test_spatial_relations(\n",
    "    x1=3, y1=30, w1=30, h1=30, theta1=0.0, x2=60, y2=60, w2=30, h2=30, theta2=0.0\n",
    "):\n",
    "    base = Image.new(\"RGBA\", (224, 224), (255, 255, 255, 20))\n",
    "    entity1 = Entity(w1, h1, p=(x1, y1), theta=theta1, name=\"green\", color=\"green\")\n",
    "    entity2 = Entity(w2, h2, p=(x2, y2), theta=theta2, name=\"red\", color=\"red\")\n",
    "    entity1.draw(base)\n",
    "    entity2.draw(base)\n",
    "    display(ImageOps.flip(base))\n",
    "    print(entity1)\n",
    "    print(entity2)\n",
    "    print(\n",
    "        \"left_of({}, {}): {}\".format(\n",
    "            entity1.name, entity2.name, left_of(entity1, entity2)\n",
    "        )\n",
    "    )\n",
    "    print(\n",
    "        \"right_of({}, {}): {}\".format(\n",
    "            entity1.name, entity2.name, right_of(entity1, entity2)\n",
    "        )\n",
    "    )\n",
    "    print(\n",
    "        \"above({}, {}): {}\".format(entity1.name, entity2.name, above(entity1, entity2))\n",
    "    )\n",
    "    print(\n",
    "        \"below({}, {}): {}\".format(entity1.name, entity2.name, below(entity1, entity2))\n",
    "    )"
   ]
  }
 ],
 "metadata": {
  "language_info": {
   "name": "python",
   "pygments_lexer": "ipython3"
  }
 },
 "nbformat": 4,
 "nbformat_minor": 4
}

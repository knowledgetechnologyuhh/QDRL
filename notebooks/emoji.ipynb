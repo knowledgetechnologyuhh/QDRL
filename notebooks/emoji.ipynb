{
 "cells": [
  {
   "cell_type": "code",
   "execution_count": null,
   "id": "abroad-immigration",
   "metadata": {},
   "outputs": [],
   "source": [
    "import math\n",
    "\n",
    "from PIL import Image\n",
    "from qsr_learning.entity import Entity"
   ]
  },
  {
   "cell_type": "code",
   "execution_count": null,
   "id": "understanding-harrison",
   "metadata": {},
   "outputs": [],
   "source": [
    "entity = Entity(name=\"octopus\", p=(15, 60), theta=0 * 2 * math.pi, size=(64, 64))\n",
    "canvas = Image.new(\"RGBA\", (224, 224), (127, 127, 127, 127))\n",
    "entity.draw(canvas, show_bbox=True)\n",
    "entity = Entity(name=\"trophy\", p=(90, 60), theta=0.25 * 2 * math.pi, size=(64, 64))\n",
    "entity.draw(canvas, show_bbox=True)"
   ]
  },
  {
   "cell_type": "markdown",
   "id": "partial-relaxation",
   "metadata": {},
   "source": [
    "# Test `Entity` Class"
   ]
  },
  {
   "cell_type": "code",
   "execution_count": null,
   "id": "progressive-nicaragua",
   "metadata": {},
   "outputs": [],
   "source": [
    "from ipywidgets import interact\n",
    "from qsr_learning.data.bounding_box_data import above, below, left_of, right_of\n",
    "\n",
    "\n",
    "@interact(\n",
    "    absolute_direction=(0, 1),\n",
    "    x1=(0, 150),\n",
    "    y1=(0, 150),\n",
    "    theta1=(0, 360),\n",
    "    x2=(0, 150),\n",
    "    y2=(0, 150),\n",
    "    theta2=(0, 360),\n",
    ")\n",
    "def test_spatial_relations(\n",
    "    absolute_direction=1, x1=64, y1=64, theta1=0, x2=128, y2=128, theta2=150\n",
    "):\n",
    "    canvas = Image.new(\"RGBA\", (224, 224), (127, 127, 127, 127))\n",
    "    entity1 = Entity(\n",
    "        name=\"octopus\",\n",
    "        absolute_direction=absolute_direction,\n",
    "        p=(x1, y1),\n",
    "        theta=theta1 / 360 * 2 * math.pi,\n",
    "        size=(32, 32),\n",
    "    )\n",
    "    entity1.draw(canvas, show_bbox=True, orientation_marker=True)\n",
    "    entity2 = Entity(\n",
    "        name=\"trophy\",\n",
    "        absolute_direction=absolute_direction,\n",
    "        p=(x2, y2),\n",
    "        theta=theta2 / 360 * 2 * math.pi,\n",
    "        size=(32, 32),\n",
    "    )\n",
    "    entity2.draw(canvas, show_bbox=True, orientation_marker=True)\n",
    "    display(canvas)\n",
    "\n",
    "    for relation in [left_of, right_of, above, below]:\n",
    "        if relation(entity1, entity2):\n",
    "            print(entity1.name, relation.__name__, entity2.name)\n",
    "#     for relation in [left_of, right_of, above, below]:\n",
    "#         if relation(entity2, entity1):\n",
    "#             print(entity2.name, relation.__name__, entity1.name)"
   ]
  },
  {
   "cell_type": "code",
   "execution_count": null,
   "id": "viral-genius",
   "metadata": {},
   "outputs": [],
   "source": []
  }
 ],
 "metadata": {
  "language_info": {
   "name": "python",
   "pygments_lexer": "ipython3"
  }
 },
 "nbformat": 4,
 "nbformat_minor": 5
}
